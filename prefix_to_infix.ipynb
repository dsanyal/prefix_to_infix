{
 "cells": [
  {
   "cell_type": "markdown",
   "metadata": {},
   "source": [
    "# Prefix notation to Infix notation\n",
    "\n",
    "#### What is infix notation?\n",
    "**Infix notation:** X + Y\n",
    "\n",
    "Operators are written in-between their operands. This is the usual way we write expressions. An expression such as `A * ( B + C ) / D` is usually taken to mean something like: \"First add B and C together, then multiply the result by A, then divide by D to give the final answer.\"\n",
    "\n",
    "#### What is prefix notation?\n",
    "**Prefix notation (also known as \"Polish notation\"):** + X Y\n",
    "\n",
    "In this case, operators are written before their operands. The expression given above is equivalent to `/ * A + B C D`. For e.g. $- 4 * 2 5$ in prefix notation is equivalent to $4 - (2 * 5)$  in infix notation that evaluates to  $-6$.\n",
    "\n",
    "**Why would you use prefix notation?** \n",
    "Although it is difficult to read for humans, prefix notation has the advantage that does not require any parenthesis to indicate the sequence of operations. \n",
    "\n",
    "\n",
    "In this notebook, only native Python libraries are used to convert prefix notation to infix notation. To make it interesting, one can also pass in range of values inside an expression as variables, for e.g.\n",
    " '+ 5 x' where x = range (2,10). In this case, the code evaluates the expression for each of the values of 'x' and returns the maximum value. It outputs 14 as the answer for the expression above.\n",
    " Another example: `expression = '* x + 5 - y 7'` where `variables = {'x':range(1,5), 'y':range(2,8)})` evaluates to 20.\n",
    "\n",
    "\n",
    "This was a fun exercise for me, it requires a good understanding of Python data structures.\n"
   ]
  },
  {
   "cell_type": "code",
   "execution_count": 1,
   "metadata": {},
   "outputs": [],
   "source": [
    "from itertools import product\n",
    "\n",
    "def perform_single_operation(operator,num1,num2):\n",
    "    '''\n",
    "    Arguments: A binary operator and the two operands as strings. \n",
    "    Returns: the evaluated result (float or int) \n",
    "    '''\n",
    "#    print(type(eval(num1 + operator + num2)))\n",
    "    return eval(num1 + operator + num2)\n",
    "\n",
    "           \n",
    "def evaluate_expression(exp_char_list):\n",
    "    '''\n",
    "    For a given expression in prefix notation this function returns the evaluated result.\n",
    "    Argument: A list of characters in prefix notation, e.g. ['*', '5', '6']\n",
    "    '''\n",
    "    operator_list = ['+', '-', '*', '/']\n",
    "    s = []  \n",
    "    for char in reversed(exp_char_list):\n",
    "        if char not in operator_list:\n",
    "            s.append(char)\n",
    "        elif char in operator_list:\n",
    "            num1 = s.pop()\n",
    "            num2 = s.pop()            \n",
    "            operated_val = perform_single_operation(char,num1,num2)\n",
    "            s.append(str(operated_val))\n",
    "#            print(operated_val)\n",
    "    return int(float(s[0]))\n",
    "\n"
   ]
  },
  {
   "cell_type": "code",
   "execution_count": 2,
   "metadata": {},
   "outputs": [],
   "source": [
    "def maximum_expression_value(expression,variables):\n",
    "    \"\"\"\n",
    "    Evaluates the prefix expression and calculates the maximum result\n",
    "    for the given variable ranges.\n",
    "\n",
    "    Arguments:\n",
    "      expression (str): the prefix expression to evaluate.\n",
    "      variables (dict): all the variables in the expression are the keys\n",
    "          of this dictionary and their values are tuples `(min, max)` that\n",
    "          define a range (the upper bound `max` is not included).\n",
    "          \n",
    "    Returns:\n",
    "        int or None: the maximum result of the expression for any combination of the accepted\n",
    "            values. If the expression is invalid, it will return `None`.\n",
    "    \"\"\"\n",
    "    max_value = []\n",
    "    list_of_chars = [char.strip() for char in expression.split()] #split the expression into operators, operands and variables\n",
    "    operator_list = ['+', '-', '*', '/']\n",
    "    for char in list_of_chars:\n",
    "        if len(char)!=1 and any(set([ch for ch in char]).intersection(set(operator_list))): # Any two elements must be separated by whitespace\n",
    "            print('Invalid Expression: Any two chars must be separated by a space-like character')\n",
    "            return None\n",
    "    num_operators = len([char for char in list_of_chars if char in operator_list])\n",
    "    if (len(list_of_chars) != (2*num_operators + 1)):\n",
    "#        print(len(list_of_chars), num_operators)\n",
    "        print('Invalid Expression: Check the number of operators and operands')\n",
    "        return None\n",
    "                \n",
    "    if len(variables) ==0: # a prefix expression with no variables\n",
    "        return evaluate_expression(list_of_chars)\n",
    "    elif len(variables) >0:        \n",
    "        variable_combinations = product(*variables.values())\n",
    "        for var_combi in variable_combinations:\n",
    "            s=[]\n",
    "            temp = list(var_combi)\n",
    "            for char in list_of_chars:\n",
    "                if char in variables.keys():\n",
    "                    s.append(str(temp.pop(0)))\n",
    "                else:\n",
    "                    s.append(char)\n",
    "#            print(' '.join(s))\n",
    "            max_value.append(evaluate_expression(s))\n",
    "#        print(max_value)     \n",
    "        return max(max_value)\n",
    "\n",
    "\n"
   ]
  },
  {
   "cell_type": "code",
   "execution_count": 3,
   "metadata": {},
   "outputs": [
    {
     "name": "stdout",
     "output_type": "stream",
     "text": [
      "The maximum value of this expression '* x + 5 - y 7' is: 20\n"
     ]
    }
   ],
   "source": [
    "## Example\n",
    "sample_exp = '* x + 5 - y 7'\n",
    "variables_dict = {'x':range(1,5), 'y':range(2,8)}\n",
    "max_exp_value = maximum_expression_value(sample_exp, variables_dict)\n",
    "print('The maximum value of this expression \\'{}\\' is: {}'.format(sample_exp, max_exp_value))"
   ]
  },
  {
   "cell_type": "code",
   "execution_count": 4,
   "metadata": {},
   "outputs": [
    {
     "name": "stdout",
     "output_type": "stream",
     "text": [
      "7\n",
      "-6\n",
      "25\n",
      "---------------------------------\n",
      "10\n",
      "20\n",
      "---------------------------------\n",
      "Invalid Expression: Check the number of operators and operands\n",
      "None\n",
      "Invalid Expression: Check the number of operators and operands\n",
      "None\n",
      "Invalid Expression: Any two chars must be separated by a space-like character\n",
      "None\n"
     ]
    }
   ],
   "source": [
    "# -------Demo-----------\n",
    "print(maximum_expression_value('+ 2 5', {}))\n",
    "print(maximum_expression_value('- 4 * 2 5', {}))\n",
    "print(maximum_expression_value('/ * 3 + 7 10 2', {}))\n",
    "print('---------------------------------')\n",
    "print(maximum_expression_value('* 2 + 5 - y 7', {'y':range(2,8)}))\n",
    "print(maximum_expression_value('* x + 5 - y 7', {'x':range(1,5), 'y':range(2,8)}))\n",
    "\n",
    "print('---------------------------------')\n",
    "print(maximum_expression_value('* 2 + 5 4 4 - 1 * 7', {}))\n",
    "print(maximum_expression_value('* 2 + 5 - / 1 * 7', {}))\n",
    "print(maximum_expression_value('* 2 + 5 -/ 1 * 7', {}))"
   ]
  }
 ],
 "metadata": {
  "kernelspec": {
   "display_name": "Python 3",
   "language": "python",
   "name": "python3"
  },
  "language_info": {
   "codemirror_mode": {
    "name": "ipython",
    "version": 3
   },
   "file_extension": ".py",
   "mimetype": "text/x-python",
   "name": "python",
   "nbconvert_exporter": "python",
   "pygments_lexer": "ipython3",
   "version": "3.6.9"
  }
 },
 "nbformat": 4,
 "nbformat_minor": 2
}
